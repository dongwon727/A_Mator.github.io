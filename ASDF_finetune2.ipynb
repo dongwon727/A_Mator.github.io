{
  "cells": [
    {
      "cell_type": "markdown",
      "metadata": {
        "id": "KanW-u1q1Xn9"
      },
      "source": [
        "# MoE-PEFT: An Efficient LLM Fine-Tuning Factory for Mixture of Expert (MoE) Parameter-Efficient Fine-Tuning.\n",
        "[![](https://github.com/TUDB-Labs/MoE-PEFT/actions/workflows/python-test.yml/badge.svg)](https://github.com/TUDB-Labs/MoE-PEFT/actions/workflows/python-test.yml)\n",
        "[![](https://img.shields.io/github/stars/TUDB-Labs/MoE-PEFT?logo=GitHub&style=flat)](https://github.com/TUDB-Labs/MoE-PEFT/stargazers)\n",
        "[![](https://img.shields.io/github/v/release/TUDB-Labs/MoE-PEFT?logo=Github)](https://github.com/TUDB-Labs/MoE-PEFT/releases/latest)\n",
        "[![](https://img.shields.io/pypi/v/moe_peft?logo=pypi)](https://pypi.org/project/moe_peft/)\n",
        "[![](https://img.shields.io/docker/v/mikecovlee/moe_peft?logo=Docker&label=docker)](https://hub.docker.com/r/mikecovlee/moe_peft/tags)\n",
        "[![](https://img.shields.io/github/license/TUDB-Labs/MoE-PEFT)](http://www.apache.org/licenses/LICENSE-2.0)\n",
        "\n",
        "MoE-PEFT is an open-source *LLMOps* framework built on [m-LoRA](https://github.com/TUDB-Labs/mLoRA). It is designed for high-throughput fine-tuning, evaluation, and inference of Large Language Models (LLMs) using techniques such as MoE + Others (like LoRA, DoRA). Key features of MoE-PEFT include:\n",
        "\n",
        "- Concurrent fine-tuning, evaluation, and inference of multiple adapters with a shared pre-trained model.\n",
        "\n",
        "- **MoE PEFT** optimization, mainly for [MixLoRA](https://github.com/TUDB-Labs/MixLoRA) and other MoLE implementation.\n",
        "\n",
        "- Support for multiple PEFT algorithms and various pre-trained models.\n",
        "\n",
        "- Seamless integration with the [HuggingFace](https://huggingface.co) ecosystem.\n",
        "\n",
        "## About this notebook\n",
        "\n",
        "This is a simple jupiter notebook for showcasing the basic process of fine-tuning **TinyLLaMA** with dummy data."
      ]
    },
    {
      "cell_type": "markdown",
      "metadata": {
        "id": "FB5mJvA41Xn-"
      },
      "source": [
        "## Clone and install MoE-PEFT"
      ]
    },
    {
      "cell_type": "code",
      "execution_count": null,
      "metadata": {
        "id": "L8Puywv_1Xn-",
        "outputId": "a5f8665e-dfb7-4a75-9aad-9ecbcfee2410",
        "colab": {
          "base_uri": "https://localhost:8080/"
        }
      },
      "outputs": [
        {
          "output_type": "stream",
          "name": "stdout",
          "text": [
            "Found existing installation: torchvision 0.21.0+cu124\n",
            "Uninstalling torchvision-0.21.0+cu124:\n",
            "  Successfully uninstalled torchvision-0.21.0+cu124\n",
            "Found existing installation: torchaudio 2.6.0+cu124\n",
            "Uninstalling torchaudio-2.6.0+cu124:\n",
            "  Successfully uninstalled torchaudio-2.6.0+cu124\n",
            "Collecting moe_peft\n",
            "  Downloading moe_peft-2.0.2-py3-none-any.whl.metadata (12 kB)\n",
            "Collecting torch<2.6.0,>=2.4.0 (from moe_peft)\n",
            "  Downloading torch-2.5.1-cp311-cp311-manylinux1_x86_64.whl.metadata (28 kB)\n",
            "Collecting datasets (from moe_peft)\n",
            "  Downloading datasets-3.5.0-py3-none-any.whl.metadata (19 kB)\n",
            "Collecting evaluate (from moe_peft)\n",
            "  Downloading evaluate-0.4.3-py3-none-any.whl.metadata (9.2 kB)\n",
            "Requirement already satisfied: accelerate in /usr/local/lib/python3.11/dist-packages (from moe_peft) (1.5.2)\n",
            "Collecting transformers<4.47.0,>=4.44.0 (from moe_peft)\n",
            "  Downloading transformers-4.46.3-py3-none-any.whl.metadata (44 kB)\n",
            "\u001b[2K     \u001b[90m━━━━━━━━━━━━━━━━━━━━━━━━━━━━━━━━━━━━━━━━\u001b[0m \u001b[32m44.1/44.1 kB\u001b[0m \u001b[31m1.9 MB/s\u001b[0m eta \u001b[36m0:00:00\u001b[0m\n",
            "\u001b[?25hRequirement already satisfied: sentencepiece in /usr/local/lib/python3.11/dist-packages (from moe_peft) (0.2.0)\n",
            "Requirement already satisfied: huggingface_hub in /usr/local/lib/python3.11/dist-packages (from moe_peft) (0.30.2)\n",
            "Requirement already satisfied: scikit-learn in /usr/local/lib/python3.11/dist-packages (from moe_peft) (1.6.1)\n",
            "Collecting tiktoken (from moe_peft)\n",
            "  Downloading tiktoken-0.9.0-cp311-cp311-manylinux_2_17_x86_64.manylinux2014_x86_64.whl.metadata (6.7 kB)\n",
            "Requirement already satisfied: filelock in /usr/local/lib/python3.11/dist-packages (from torch<2.6.0,>=2.4.0->moe_peft) (3.18.0)\n",
            "Requirement already satisfied: typing-extensions>=4.8.0 in /usr/local/lib/python3.11/dist-packages (from torch<2.6.0,>=2.4.0->moe_peft) (4.13.2)\n",
            "Requirement already satisfied: networkx in /usr/local/lib/python3.11/dist-packages (from torch<2.6.0,>=2.4.0->moe_peft) (3.4.2)\n",
            "Requirement already satisfied: jinja2 in /usr/local/lib/python3.11/dist-packages (from torch<2.6.0,>=2.4.0->moe_peft) (3.1.6)\n",
            "Requirement already satisfied: fsspec in /usr/local/lib/python3.11/dist-packages (from torch<2.6.0,>=2.4.0->moe_peft) (2025.3.2)\n",
            "Collecting nvidia-cuda-nvrtc-cu12==12.4.127 (from torch<2.6.0,>=2.4.0->moe_peft)\n",
            "  Downloading nvidia_cuda_nvrtc_cu12-12.4.127-py3-none-manylinux2014_x86_64.whl.metadata (1.5 kB)\n",
            "Collecting nvidia-cuda-runtime-cu12==12.4.127 (from torch<2.6.0,>=2.4.0->moe_peft)\n",
            "  Downloading nvidia_cuda_runtime_cu12-12.4.127-py3-none-manylinux2014_x86_64.whl.metadata (1.5 kB)\n",
            "Collecting nvidia-cuda-cupti-cu12==12.4.127 (from torch<2.6.0,>=2.4.0->moe_peft)\n",
            "  Downloading nvidia_cuda_cupti_cu12-12.4.127-py3-none-manylinux2014_x86_64.whl.metadata (1.6 kB)\n",
            "Collecting nvidia-cudnn-cu12==9.1.0.70 (from torch<2.6.0,>=2.4.0->moe_peft)\n",
            "  Downloading nvidia_cudnn_cu12-9.1.0.70-py3-none-manylinux2014_x86_64.whl.metadata (1.6 kB)\n",
            "Collecting nvidia-cublas-cu12==12.4.5.8 (from torch<2.6.0,>=2.4.0->moe_peft)\n",
            "  Downloading nvidia_cublas_cu12-12.4.5.8-py3-none-manylinux2014_x86_64.whl.metadata (1.5 kB)\n",
            "Collecting nvidia-cufft-cu12==11.2.1.3 (from torch<2.6.0,>=2.4.0->moe_peft)\n",
            "  Downloading nvidia_cufft_cu12-11.2.1.3-py3-none-manylinux2014_x86_64.whl.metadata (1.5 kB)\n",
            "Collecting nvidia-curand-cu12==10.3.5.147 (from torch<2.6.0,>=2.4.0->moe_peft)\n",
            "  Downloading nvidia_curand_cu12-10.3.5.147-py3-none-manylinux2014_x86_64.whl.metadata (1.5 kB)\n",
            "Collecting nvidia-cusolver-cu12==11.6.1.9 (from torch<2.6.0,>=2.4.0->moe_peft)\n",
            "  Downloading nvidia_cusolver_cu12-11.6.1.9-py3-none-manylinux2014_x86_64.whl.metadata (1.6 kB)\n",
            "Collecting nvidia-cusparse-cu12==12.3.1.170 (from torch<2.6.0,>=2.4.0->moe_peft)\n",
            "  Downloading nvidia_cusparse_cu12-12.3.1.170-py3-none-manylinux2014_x86_64.whl.metadata (1.6 kB)\n",
            "Requirement already satisfied: nvidia-nccl-cu12==2.21.5 in /usr/local/lib/python3.11/dist-packages (from torch<2.6.0,>=2.4.0->moe_peft) (2.21.5)\n",
            "Requirement already satisfied: nvidia-nvtx-cu12==12.4.127 in /usr/local/lib/python3.11/dist-packages (from torch<2.6.0,>=2.4.0->moe_peft) (12.4.127)\n",
            "Collecting nvidia-nvjitlink-cu12==12.4.127 (from torch<2.6.0,>=2.4.0->moe_peft)\n",
            "  Downloading nvidia_nvjitlink_cu12-12.4.127-py3-none-manylinux2014_x86_64.whl.metadata (1.5 kB)\n",
            "Collecting triton==3.1.0 (from torch<2.6.0,>=2.4.0->moe_peft)\n",
            "  Downloading triton-3.1.0-cp311-cp311-manylinux_2_17_x86_64.manylinux2014_x86_64.whl.metadata (1.3 kB)\n",
            "Requirement already satisfied: sympy==1.13.1 in /usr/local/lib/python3.11/dist-packages (from torch<2.6.0,>=2.4.0->moe_peft) (1.13.1)\n",
            "Requirement already satisfied: mpmath<1.4,>=1.1.0 in /usr/local/lib/python3.11/dist-packages (from sympy==1.13.1->torch<2.6.0,>=2.4.0->moe_peft) (1.3.0)\n",
            "Requirement already satisfied: numpy>=1.17 in /usr/local/lib/python3.11/dist-packages (from transformers<4.47.0,>=4.44.0->moe_peft) (2.0.2)\n",
            "Requirement already satisfied: packaging>=20.0 in /usr/local/lib/python3.11/dist-packages (from transformers<4.47.0,>=4.44.0->moe_peft) (24.2)\n",
            "Requirement already satisfied: pyyaml>=5.1 in /usr/local/lib/python3.11/dist-packages (from transformers<4.47.0,>=4.44.0->moe_peft) (6.0.2)\n",
            "Requirement already satisfied: regex!=2019.12.17 in /usr/local/lib/python3.11/dist-packages (from transformers<4.47.0,>=4.44.0->moe_peft) (2024.11.6)\n",
            "Requirement already satisfied: requests in /usr/local/lib/python3.11/dist-packages (from transformers<4.47.0,>=4.44.0->moe_peft) (2.32.3)\n",
            "Collecting tokenizers<0.21,>=0.20 (from transformers<4.47.0,>=4.44.0->moe_peft)\n",
            "  Downloading tokenizers-0.20.3-cp311-cp311-manylinux_2_17_x86_64.manylinux2014_x86_64.whl.metadata (6.7 kB)\n",
            "Requirement already satisfied: safetensors>=0.4.1 in /usr/local/lib/python3.11/dist-packages (from transformers<4.47.0,>=4.44.0->moe_peft) (0.5.3)\n",
            "Requirement already satisfied: tqdm>=4.27 in /usr/local/lib/python3.11/dist-packages (from transformers<4.47.0,>=4.44.0->moe_peft) (4.67.1)\n",
            "Requirement already satisfied: psutil in /usr/local/lib/python3.11/dist-packages (from accelerate->moe_peft) (5.9.5)\n",
            "Requirement already satisfied: pyarrow>=15.0.0 in /usr/local/lib/python3.11/dist-packages (from datasets->moe_peft) (18.1.0)\n",
            "Collecting dill<0.3.9,>=0.3.0 (from datasets->moe_peft)\n",
            "  Downloading dill-0.3.8-py3-none-any.whl.metadata (10 kB)\n",
            "Requirement already satisfied: pandas in /usr/local/lib/python3.11/dist-packages (from datasets->moe_peft) (2.2.2)\n",
            "Collecting xxhash (from datasets->moe_peft)\n",
            "  Downloading xxhash-3.5.0-cp311-cp311-manylinux_2_17_x86_64.manylinux2014_x86_64.whl.metadata (12 kB)\n",
            "Collecting multiprocess<0.70.17 (from datasets->moe_peft)\n",
            "  Downloading multiprocess-0.70.16-py311-none-any.whl.metadata (7.2 kB)\n",
            "Collecting fsspec (from torch<2.6.0,>=2.4.0->moe_peft)\n",
            "  Downloading fsspec-2024.12.0-py3-none-any.whl.metadata (11 kB)\n",
            "Requirement already satisfied: aiohttp in /usr/local/lib/python3.11/dist-packages (from datasets->moe_peft) (3.11.15)\n"
          ]
        }
      ],
      "source": [
        "! pip uninstall torchvision torchaudio -y\n",
        "! pip install moe_peft"
      ]
    },
    {
      "cell_type": "markdown",
      "metadata": {
        "id": "hSqj4MS11Xn_"
      },
      "source": [
        "## Loading the base model"
      ]
    },
    {
      "cell_type": "code",
      "execution_count": null,
      "metadata": {
        "id": "BvkKCMvo1Xn_"
      },
      "outputs": [],
      "source": [
        "import torch\n",
        "\n",
        "import moe_peft\n",
        "\n",
        "moe_peft.setup_logging(\"INFO\")\n",
        "\n",
        "base_model = \"DavidAU/Llama-3.2-8X3B-MOE-Dark-Champion-Instruct-uncensored-abliterated-18.4B\"\n",
        "\n",
        "model = moe_peft.LLMModel.from_pretrained(\n",
        "    base_model,\n",
        "    device=moe_peft.executor.default_device_name(),\n",
        "    load_dtype=torch.bfloat16,\n",
        ")\n",
        "tokenizer = moe_peft.Tokenizer(base_model)"
      ]
    },
    {
      "cell_type": "markdown",
      "metadata": {
        "id": "YExlDDvQ1Xn_"
      },
      "source": [
        "## Training a dummy LoRA adapter"
      ]
    },
    {
      "cell_type": "code",
      "execution_count": null,
      "metadata": {
        "id": "O_-anHrC1XoA"
      },
      "outputs": [],
      "source": [
        "lora_config = moe_peft.adapter_factory(\n",
        "    peft_type=\"LORA\",\n",
        "    adapter_name=\"lora_0\",\n",
        "    r=8,\n",
        "    lora_alpha=16,\n",
        "    lora_dropout=0.05,\n",
        "    target_modules=[\n",
        "        \"q_proj\",\n",
        "        \"k_proj\",\n",
        "        \"v_proj\",\n",
        "        \"o_proj\",\n",
        "    ],\n",
        ")\n",
        "\n",
        "model.init_adapter(lora_config)\n",
        "\n",
        "train_config = moe_peft.TrainConfig(\n",
        "    adapter_name=\"lora_0\",\n",
        "    data_path=\"ANTEGRAL/korean-persona-chat-v1\",\n",
        "    num_epochs=10,\n",
        "    batch_size=16,\n",
        "    micro_batch_size=8,\n",
        "    learning_rate=1e-4,\n",
        ")\n",
        "\n",
        "moe_peft.train(model=model, tokenizer=tokenizer, configs=[train_config])"
      ]
    },
    {
      "cell_type": "markdown",
      "metadata": {
        "id": "MBER1mWh1XoA"
      },
      "source": [
        "## Validate the effectiveness of LoRA adapter"
      ]
    },
    {
      "cell_type": "code",
      "execution_count": null,
      "metadata": {
        "id": "nm3cRPpk1XoA"
      },
      "outputs": [],
      "source": [
        "generate_config = moe_peft.GenerateConfig(\n",
        "    adapter_name=\"lora_0\",\n",
        "    prompts=[\"Could you provide an introduction to MoE-PEFT?\"],\n",
        "    stop_token=\"\\n\",\n",
        ")\n",
        "\n",
        "output = moe_peft.generate(\n",
        "    model=model, tokenizer=tokenizer, configs=[generate_config], max_gen_len=128\n",
        ")\n",
        "\n",
        "print(output[\"lora_0\"][0])"
      ]
    }
  ],
  "metadata": {
    "kernelspec": {
      "display_name": "moe_peft",
      "language": "python",
      "name": "python3"
    },
    "language_info": {
      "codemirror_mode": {
        "name": "ipython",
        "version": 3
      },
      "file_extension": ".py",
      "mimetype": "text/x-python",
      "name": "python",
      "nbconvert_exporter": "python",
      "pygments_lexer": "ipython3",
      "version": "3.12.7"
    },
    "colab": {
      "provenance": []
    }
  },
  "nbformat": 4,
  "nbformat_minor": 0
}